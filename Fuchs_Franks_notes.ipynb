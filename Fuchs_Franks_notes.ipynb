{
 "cells": [
  {
   "cell_type": "markdown",
   "metadata": {},
   "source": [
    "# Notes on Fuchs and Franks, 2010\n",
    "\n",
    "This paper is a good starting point for trying to define a parameterization for PFT size distribution\n",
    "\n",
    "## Notes on Eq. (1)\n",
    "\n",
    "Eq. (1) is actually three equations:\n",
    "\n",
    "*N(t) = N<sub>T</sub> -* Int(*P(x,t)dx*) - Int(*Z(x,t)dx*)\n",
    "\n",
    "* *t* is time\n",
    "* *N(t)* is nitrogen concentration (micromols)\n",
    "* *N<sub>T</sub>* is total nitrogen in the system (1-30 micromol)\n",
    "* *x* is equivalent spherical diameter (ESD); a measure of the size of PFT class\n",
    "* *P(x,t)* is total phytoplankton biomass\n",
    "* *Z(x,t)* is total zooplankton biomass\n",
    "\n",
    "*dP(x,t)/dt = P(x,t) (-lambda + mu*<sub>max</sub>*(x) N(t)/(N(t) + k*<sub>s</sub>*) - g* Int(*F<sup>-</sup>(x,y)Z(y,t)dy*))\n",
    "\n",
    "* *lambda*  is phytoplankton mortality rate\n",
    "* *mu*<sub>max</sub> is maximum phytoplankton growth rate\n",
    "* *k*<sub>s</sub> is half-saturation constant\n",
    "* *g* is feeding rate\n",
    "* *F*<sup>-</sup> is a feeding kernel (FF2010 uses Laplace distribution)\n",
    "\n",
    "*dZ(x,t)/dt = Z(x,t) (-lambda - g* Int(*F<sup>-</sup>(x,y)Z(y,t)dy*) + *gamma g* Int(*F<sup>+</sup>(x,y)(P(y,t) + Z(y,t))dy*))\n",
    "\n",
    "* *gamma* is assimilation efficiency\n",
    "* *F*<sup>+</sup> is a redistibution kernel\n",
    "\n",
    "## Our goal\n",
    "\n",
    "Rather than divide *x* into bins and carry around tracers for *P* and *Z* in each size category, can we come up with a distribution for *P* and *Z* and then just transport total mass and total count?"
   ]
  },
  {
   "cell_type": "code",
   "execution_count": null,
   "metadata": {
    "collapsed": true
   },
   "outputs": [],
   "source": [
    "import math\n",
    "import matplotlib\n",
    "import numpy as np\n",
    "from scipy import stats\n",
    "from scipy.stats import lognorm\n",
    "import matplotlib.pyplot as plt\n",
    "\n",
    "%matplotlib inline"
   ]
  }
 ],
 "metadata": {
  "kernelspec": {
   "display_name": "Python 2",
   "language": "python",
   "name": "python2"
  },
  "language_info": {
   "codemirror_mode": {
    "name": "ipython",
    "version": 2
   },
   "file_extension": ".py",
   "mimetype": "text/x-python",
   "name": "python",
   "nbconvert_exporter": "python",
   "pygments_lexer": "ipython2",
   "version": "2.7.13"
  }
 },
 "nbformat": 4,
 "nbformat_minor": 2
}
