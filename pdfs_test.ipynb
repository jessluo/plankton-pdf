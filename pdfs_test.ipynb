{
 "cells": [
  {
   "cell_type": "code",
   "execution_count": 1,
   "metadata": {
    "collapsed": true,
    "deletable": true,
    "editable": true
   },
   "outputs": [],
   "source": [
    "import math\n",
    "import matplotlib\n",
    "import numpy as np\n",
    "from scipy import stats\n",
    "from scipy.stats import lognorm\n",
    "import matplotlib.pyplot as plt\n",
    "\n",
    "%matplotlib inline"
   ]
  },
  {
   "cell_type": "code",
   "execution_count": 2,
   "metadata": {
    "collapsed": false
   },
   "outputs": [
    {
     "name": "stdout",
     "output_type": "stream",
     "text": [
      "3.28571428571 2.48979591837\n",
      "3.28571428571 2.48979591837\n",
      "[ 4.  2.  4.  2.  4.  4.  5.]\n",
      "3.57142857143 1.10204081633\n"
     ]
    },
    {
     "data": {
      "image/png": "[encoded data removed]",
      "text/plain": [
       "<matplotlib.figure.Figure at 0x108c461d0>"
      ]
     },
     "metadata": {},
     "output_type": "display_data"
    }
   ],
   "source": [
    "x = [1, 2, 2, 3]\n",
    "Nx = len(x)\n",
    "mx = np.average(x)\n",
    "sx = np.sqrt(np.var(x))\n",
    "y = [5, 5, 5]\n",
    "Ny = len(y)\n",
    "my = np.average(y)\n",
    "sy = np.sqrt(np.var(y))\n",
    "\n",
    "z = np.append(x,y)\n",
    "N = Nx + Ny\n",
    "m = (Nx*mx + Ny*my)/N\n",
    "s = np.sqrt((Nx*sx*sx + Ny*sy*sy + Nx*Ny*(mx-my)**2/(Nx+Ny))/(Nx+Ny))\n",
    "\n",
    "print np.average(z), np.var(z)\n",
    "print m, s**2\n",
    "\n",
    "np.random.seed(19250430)\n",
    "z2 = np.round(m + s*np.random.randn(N))\n",
    "print z2\n",
    "print np.average(z2), np.var(z2)\n",
    "\n",
    "f, plts = plt.subplots(2, sharex=True)\n",
    "plts[0].hist(x, bins=5, range=(0.5,5.5));\n",
    "plts[0].hist(y, bins=5, range=(0.5,5.5));\n",
    "plts[1].hist(z2, bins=5, range=(0.5,5.5));"
   ]
  },
  {
   "cell_type": "code",
   "execution_count": 19,
   "metadata": {
    "collapsed": false,
    "deletable": true,
    "editable": true
   },
   "outputs": [
    {
     "name": "stdout",
     "output_type": "stream",
     "text": [
      "20.9521116212 5.68932986633\n",
      "20.9279813835 5.64601877296\n",
      "11.7707212436 29.7197148974\n"
     ]
    },
    {
     "data": {
      "text/plain": [
       "[<matplotlib.lines.Line2D at 0x115ca2350>]"
      ]
     },
     "execution_count": 19,
     "metadata": {},
     "output_type": "execute_result"
    },
    {
     "data": {
      "image/png": "[encoded data removed]",
      "text/plain": [
       "<matplotlib.figure.Figure at 0x11465bd50>"
      ]
     },
     "metadata": {},
     "output_type": "display_data"
    }
   ],
   "source": [
    "np.random.seed(19250430)\n",
    "\n",
    "x = np.linspace(10.75, 28.75, num=1000)\n",
    "\n",
    "# First set of random numbers\n",
    "Na = 10000\n",
    "ma = 20.5\n",
    "sa = np.sqrt(5)\n",
    "a = ma + sa*np.random.randn(Na)\n",
    "pdf_a = stats.norm.pdf(x,ma,sa)\n",
    "\n",
    "# Second set of random numbers\n",
    "Nb = 8000\n",
    "mb = 21.5\n",
    "sb = np.sqrt(6)\n",
    "b = mb + sb*np.random.randn(Nb)\n",
    "pdf_b = stats.norm.pdf(x,mb,sb)\n",
    "\n",
    "# Combine them\n",
    "ctmp = np.append(a,b)\n",
    "Nc = Na + Nb\n",
    "mc = (Na*ma + Nb*mb)/Nc\n",
    "sc = np.sqrt((Na*sa*sa + Nb*sb*sb + Na*Nb*(ma-mb)**2/(Na+Nb))/(Na+Nb))\n",
    "c = mc + sc*np.random.randn(Nc)\n",
    "pdf_c = stats.norm.pdf(x,mc,sc)\n",
    "\n",
    "print np.average(ctmp), np.var(ctmp)\n",
    "print np.average(c), np.var(c)\n",
    "print np.min(c), np.max(c)\n",
    "\n",
    "f, plts = plt.subplots(3, sharex=True)\n",
    "orig = plts[0].hist(ctmp, bins=35, range=(10.75,28.75))\n",
    "new = plts[1].hist(c, bins=35, range=(10.75,28.75))\n",
    "plts[2].plot(x, Na*pdf_a + Nb*pdf_b)\n",
    "plts[2].plot(x, Nc*pdf_c)\n",
    "#plts[1].hist(z2, bins=5, range=(1,6));"
   ]
  },
  {
   "cell_type": "code",
   "execution_count": null,
   "metadata": {
    "collapsed": false,
    "deletable": true,
    "editable": true
   },
   "outputs": [],
   "source": [
    "# Fixing random state for reproducibility\n",
    "np.random.seed(19680801)\n",
    "\n",
    "mu, sigma = 100, 15\n",
    "x = mu + sigma * np.random.randn(10000)\n",
    "print np.average(x), np.var(x)\n",
    "print mu, sigma**2\n",
    "\n",
    "# the histogram of the data\n",
    "n, bins, patches = plt.hist(x, 50, normed=1, facecolor='g', alpha=0.75)\n",
    "\n",
    "plt.show()"
   ]
  },
  {
   "cell_type": "code",
   "execution_count": null,
   "metadata": {
    "collapsed": false,
    "deletable": true,
    "editable": true
   },
   "outputs": [],
   "source": [
    "# gaussian distribution\n",
    "# loc = mean, scale = standard deviation\n",
    "n_pdfs = 10\n",
    "n_x = 1000\n",
    "\n",
    "mean = np.linspace(0, 5, num=n_pdfs)\n",
    "stdev = np.linspace(0.1, 1.5, num=n_pdfs)\n",
    "\n",
    "# compare distributions of random numbers vs. a pdf\n",
    "# random numbers\n",
    "rand_norm = np.zeros((n_x, n_pdfs))\n",
    "for i in range(n_pdfs):\n",
    "    rand_norm[:,i] = stats.norm.rvs(mean[i], stdev[i], n_x)\n",
    "\n",
    "f, axarr = plt.subplots(n_pdfs, sharex=True, figsize=(5,n_pdfs))\n",
    "for i in range(n_pdfs):\n",
    "    axarr[i].hist(rand_norm[:,i], 50)\n"
   ]
  },
  {
   "cell_type": "code",
   "execution_count": null,
   "metadata": {
    "collapsed": false,
    "deletable": true,
    "editable": true
   },
   "outputs": [],
   "source": [
    "# gaussian probability distribution function\n",
    "x = np.linspace(-2, 12, num=n_x)\n",
    "\n",
    "pdfs_norm = np.zeros((n_x, n_pdfs)) # initialize\n",
    "\n",
    "for i in range(n_pdfs):\n",
    "    pdfs_norm[:,i] = stats.norm.pdf(x, loc=mean[i], scale=stdev[i])\n",
    "\n",
    "# Two subplots, the axes array is 1-d\n",
    "f, axarr = plt.subplots(n_pdfs, sharex=True, figsize=(5,n_pdfs))\n",
    "for i in range(n_pdfs):\n",
    "    axarr[i].plot(x, pdfs_norm[:,i])"
   ]
  },
  {
   "cell_type": "code",
   "execution_count": null,
   "metadata": {
    "collapsed": false,
    "deletable": true,
    "editable": true
   },
   "outputs": [],
   "source": [
    "x = np.linspace(-2, 20, num=n_x)\n",
    "\n",
    "mu1, sigma1 = 10, 2\n",
    "mu2, sigma2 = 5, 1\n",
    "\n",
    "pdf_norm1 = stats.norm.pdf(x, loc=mu1, scale=sigma1)\n",
    "pdf_norm2 = stats.norm.pdf(x, loc=mu2, scale=sigma2)\n",
    "\n",
    "rvs_norm1 = stats.norm.rvs(mu1, sigma1, n_x*100)\n",
    "rvs_norm2 = stats.norm.rvs(mu2, sigma2, n_x*100)\n",
    "\n",
    "f, axarr = plt.subplots(4, sharex=True, figsize=(5,5))\n",
    "axarr[0].plot(x, pdf_norm1)\n",
    "n1, bins1, patches1 = axarr[1].hist(rvs_norm1, 50, normed=1)\n",
    "axarr[2].plot(x, pdf_norm2)\n",
    "n2, bins2, patches2 = axarr[3].hist(rvs_norm2, 50, normed=1)"
   ]
  },
  {
   "cell_type": "code",
   "execution_count": null,
   "metadata": {
    "collapsed": false,
    "deletable": true,
    "editable": true
   },
   "outputs": [],
   "source": [
    "rvs_norm = np.append(rvs_norm1, rvs_norm2)\n",
    "n, bins, patches = plt.hist(rvs_norm, 50, normed=1)"
   ]
  },
  {
   "cell_type": "code",
   "execution_count": null,
   "metadata": {
    "collapsed": false,
    "deletable": true,
    "editable": true
   },
   "outputs": [],
   "source": [
    "print(np.sum(np.diff(bins) * n)) # sums up to equal 1"
   ]
  },
  {
   "cell_type": "code",
   "execution_count": null,
   "metadata": {
    "collapsed": false,
    "deletable": true,
    "editable": true
   },
   "outputs": [],
   "source": [
    "# distribution 1\n",
    "n1prime = np.gradient(n1) # first derivative\n",
    "n1primeprime = np.gradient(n1prime) # second derivative\n",
    "\n",
    "f1, ax1 = plt.subplots(3, sharex=True)\n",
    "ax1[0].plot(n1)\n",
    "ax1[1].plot(n1prime) \n",
    "ax1[2].plot(n1primeprime) \n",
    "\n",
    "# distribution 2\n",
    "n2prime = np.gradient(n2) # first derivative\n",
    "n2primeprime = np.gradient(n2prime) # second derivative\n",
    "\n",
    "f2, ax2 = plt.subplots(3, sharex=True)\n",
    "ax2[0].plot(n2)\n",
    "ax2[1].plot(n2prime) \n",
    "ax2[2].plot(n2primeprime) "
   ]
  },
  {
   "cell_type": "code",
   "execution_count": null,
   "metadata": {
    "collapsed": false,
    "deletable": true,
    "editable": true
   },
   "outputs": [],
   "source": [
    "# combined\n",
    "nprime = np.gradient(n) # first derivative\n",
    "nprimeprime = np.gradient(nprime) # second derivative\n",
    "\n",
    "f, ax = plt.subplots(3, sharex=True)\n",
    "ax[0].plot(n)\n",
    "ax[1].plot(nprime) \n",
    "ax[2].plot(nprimeprime) "
   ]
  },
  {
   "cell_type": "code",
   "execution_count": null,
   "metadata": {
    "collapsed": true,
    "deletable": true,
    "editable": true
   },
   "outputs": [],
   "source": [
    "def hessian(x):\n",
    "    \"\"\"\n",
    "    Calculate the hessian matrix with finite differences\n",
    "    Parameters:\n",
    "       - x : ndarray\n",
    "    Returns:\n",
    "       an array of shape (x.dim, x.ndim) + x.shape\n",
    "       where the array[i, j, ...] corresponds to the second derivative x_ij\n",
    "    \"\"\"\n",
    "    x_grad = np.gradient(x) \n",
    "    hessian = np.empty((x.ndim, x.ndim) + x.shape, dtype=x.dtype) \n",
    "    for k, grad_k in enumerate(x_grad):\n",
    "        # iterate over dimensions\n",
    "        # apply gradient again to every component of the first derivative.\n",
    "        tmp_grad = np.gradient(grad_k) \n",
    "        for l, grad_kl in enumerate(tmp_grad):\n",
    "            hessian[k, l, :, :] = grad_kl\n",
    "    return hessian"
   ]
  },
  {
   "cell_type": "code",
   "execution_count": null,
   "metadata": {
    "collapsed": false,
    "deletable": true,
    "editable": true
   },
   "outputs": [],
   "source": [
    "# log normal distribution\n",
    "# single value simulation\n",
    "\n",
    "M = float(1) # geometric mean\n",
    "s = float(2) # geometric standard deviation\n",
    "mu = np.log(M)\n",
    "sigma = np.log(s)\n",
    "\n",
    "# shape = sigma # scipy's shape (s) parameter, needs to be > 0 \n",
    "# scale = np.exp(mu) # scipy's scale parameter\n",
    "\n",
    "x = np.linspace(0.1, 20, num=100)\n",
    "\n",
    "pdf_lnorm = lognorm.pdf(x, sigma, loc=0, scale=np.exp(mu))\n",
    "\n",
    "plt.plot(x, pdf_lnorm)\n",
    "plt.show()"
   ]
  },
  {
   "cell_type": "code",
   "execution_count": null,
   "metadata": {
    "collapsed": false,
    "deletable": true,
    "editable": true
   },
   "outputs": [],
   "source": [
    "# series of values\n",
    "n_pdfs = 20\n",
    "n_x = 1000\n",
    "\n",
    "mu = np.linspace(0, 3, num=n_pdfs)\n",
    "sigma = np.linspace(0.1, 2.5, num=n_pdfs)\n",
    "\n",
    "# shape = sigma # scipy's shape (s) parameter, needs to be > 0 \n",
    "# scale = np.exp(mu) # scipy's scale parameter\n",
    "\n",
    "x = np.linspace(0.1, 30, num=n_x)\n",
    "\n",
    "pdfs_lnorm = np.zeros((n_x, n_pdfs)) # initialize\n",
    "\n",
    "for i in range(n_pdfs):\n",
    "    pdfs_lnorm[:,i] = lognorm.pdf(x, sigma[i], loc=0, scale=np.exp(mu[i]))\n",
    "\n",
    "# Two subplots, the axes array is 1-d\n",
    "f, axarr = plt.subplots(n_pdfs, sharex=True, figsize=(5,n_pdfs))\n",
    "for i in range(n_pdfs):\n",
    "    axarr[i].plot(x, pdfs_lnorm[:,i])\n"
   ]
  }
 ],
 "metadata": {
  "anaconda-cloud": {},
  "kernelspec": {
   "display_name": "Python 2",
   "language": "python",
   "name": "python2"
  },
  "language_info": {
   "codemirror_mode": {
    "name": "ipython",
    "version": 2
   },
   "file_extension": ".py",
   "mimetype": "text/x-python",
   "name": "python",
   "nbconvert_exporter": "python",
   "pygments_lexer": "ipython2",
   "version": "2.7.13"
  }
 },
 "nbformat": 4,
 "nbformat_minor": 0
}
